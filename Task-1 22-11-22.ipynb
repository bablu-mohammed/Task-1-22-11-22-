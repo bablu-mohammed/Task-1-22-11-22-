{
 "cells": [
  {
   "cell_type": "code",
   "execution_count": 1,
   "id": "458cf016",
   "metadata": {},
   "outputs": [
    {
     "name": "stdout",
     "output_type": "stream",
     "text": [
      "enter a string:BABLU\n"
     ]
    },
    {
     "data": {
      "text/plain": [
       "'bablu'"
      ]
     },
     "execution_count": 1,
     "metadata": {},
     "output_type": "execute_result"
    }
   ],
   "source": [
    "#1)convert a string to lower case:\n",
    "s=input(\"enter a string:\")\n",
    "s.lower()"
   ]
  },
  {
   "cell_type": "code",
   "execution_count": 2,
   "id": "e490e8cc",
   "metadata": {},
   "outputs": [
    {
     "name": "stdout",
     "output_type": "stream",
     "text": [
      "enter a string:PYTHON\n",
      " PyThOn\n"
     ]
    }
   ],
   "source": [
    "#2)convert only odd indexed character to lower case:\n",
    "s1=input(\"enter a string:\")\n",
    "s2=\" \"\n",
    "for i in range(len(s1)):\n",
    "    if i%2==0:\n",
    "        s2=s2+s1[i].upper()\n",
    "    else:\n",
    "        s2=s2+s1[i].lower()\n",
    "print(s2)"
   ]
  },
  {
   "cell_type": "code",
   "execution_count": 3,
   "id": "5dad0218",
   "metadata": {},
   "outputs": [
    {
     "name": "stdout",
     "output_type": "stream",
     "text": [
      "enter a string:PYTHON\n",
      " pYtHoN\n"
     ]
    }
   ],
   "source": [
    "#3)convert only even indexed characters to lower case:\n",
    "s1=input(\"enter a string:\")\n",
    "s2=\" \"\n",
    "for i in range(len(s1)):\n",
    "    if i%2==0:\n",
    "        s2=s2+s1[i].lower()\n",
    "    else:\n",
    "        s2=s2+s1[i].upper()\n",
    "print(s2)"
   ]
  },
  {
   "cell_type": "code",
   "execution_count": 5,
   "id": "8f01a428",
   "metadata": {},
   "outputs": [
    {
     "name": "stdout",
     "output_type": "stream",
     "text": [
      "enter a name:Rahemath\n",
      "enter a sex:Male\n",
      "enter a age:22\n",
      "enter the number:798181\n",
      "enter the fathers name:Basheer\n",
      "enter the mothers name:Shajidha\n",
      "my name is Rahemath, my gender is Male, my age is 22,and my phone number is 798181, and my fathers name is Basheer, my mothers name is Shajidha\n"
     ]
    }
   ],
   "source": [
    "#4)write a pgm where you have different variable which contain your name,sex,age,phone no,fathers name and mothers name.\n",
    "#And by using variable create a variable named bio_dta where you will use all this variable:\n",
    "name=input(\"enter a name:\")\n",
    "sex=input(\"enter a sex:\")\n",
    "age=int(input(\"enter a age:\"))\n",
    "phone_no=int(input(\"enter the number:\"))\n",
    "fathers_name=input(\"enter the fathers name:\")\n",
    "mothers_name=input(\"enter the mothers name:\")\n",
    "bio_data=\"my name is {}, my gender is {}, my age is {},and my phone number is {}, and my fathers name is {}, my mothers name is {}\"\n",
    "l1=bio_data.format(name,sex,age,phone_no,fathers_name,mothers_name)\n",
    "print(l1)\n"
   ]
  },
  {
   "cell_type": "code",
   "execution_count": 69,
   "id": "51b6020c",
   "metadata": {},
   "outputs": [
    {
     "name": "stdout",
     "output_type": "stream",
     "text": [
      "<class 'str'>\n",
      "3\n"
     ]
    }
   ],
   "source": [
    "#5)write a program to count how many times \"@\" occured:\n",
    "#in strings\n",
    "s1=\"name1@gmail.com,name2@gmail.com,name3@gmail.com\"\n",
    "l=s1.count(\"@\")\n",
    "print(type(s1))\n",
    "print(l)"
   ]
  },
  {
   "cell_type": "code",
   "execution_count": 15,
   "id": "9b6980e1",
   "metadata": {},
   "outputs": [
    {
     "name": "stdout",
     "output_type": "stream",
     "text": [
      "<class 'list'>\n",
      "3\n"
     ]
    }
   ],
   "source": [
    "#in list:\n",
    "s2=[1,\"@\",2,\"@\",3,\"@\"]\n",
    "l=s2.count(\"@\")\n",
    "print(type(s2))\n",
    "print(l)"
   ]
  },
  {
   "cell_type": "code",
   "execution_count": 13,
   "id": "806df0c4",
   "metadata": {},
   "outputs": [
    {
     "name": "stdout",
     "output_type": "stream",
     "text": [
      "<class 'tuple'>\n",
      "1\n"
     ]
    }
   ],
   "source": [
    "#in tuple:\n",
    "s3=(10,20,30,\"@\")\n",
    "l=s3.count(\"@\")\n",
    "print(type(s3))\n",
    "print(l)"
   ]
  },
  {
   "cell_type": "code",
   "execution_count": 46,
   "id": "cec3adc4",
   "metadata": {},
   "outputs": [
    {
     "data": {
      "text/plain": [
       "'name1 ,name2 ,name3 '"
      ]
     },
     "execution_count": 46,
     "metadata": {},
     "output_type": "execute_result"
    }
   ],
   "source": [
    "#6)write a python program to get only names from the string:\n",
    "#\"name1@gmail.com,name2@gmail.com,name3@gmail.com\"\n",
    "#output:name1,name2,name3\n",
    "s4=\"name1@gmail.com,name2@gmail.com,name3@gmail.com\"\n",
    "s5=s4.split(\"@gmail.com\")\n",
    "s6=\" \".join(s5)\n",
    "s6"
   ]
  },
  {
   "cell_type": "code",
   "execution_count": 79,
   "id": "f4a2ef11",
   "metadata": {},
   "outputs": [
    {
     "name": "stdout",
     "output_type": "stream",
     "text": [
      "mei\n"
     ]
    }
   ],
   "source": [
    "#7)Given a string of odd len greater than 9 return a new string made of middle three characters of a given string:\n",
    "#input:\"mynameissan\"\n",
    "#o/p:mei\n",
    "s7=\"mynameissan\"\n",
    "print(s7[len(s7)//2-1]+s7[len(s7)//2:len(s7)//2+2])\n",
    "#middleindex=len(s7)//2\n",
    "#middleindex\n",
    "#print(s7[middleindex])"
   ]
  },
  {
   "cell_type": "code",
   "execution_count": 93,
   "id": "17d558c3",
   "metadata": {},
   "outputs": [
    {
     "data": {
      "text/plain": [
       "'msayn'"
      ]
     },
     "execution_count": 93,
     "metadata": {},
     "output_type": "execute_result"
    }
   ],
   "source": [
    "#8)write a program to insert a 2 string in the middle of 1 string:\n",
    "#i/p:str1=\"myn\"\n",
    "#    str2=\"sa\"\n",
    "#o/p:\"msayn\"\n",
    "s1=\"myn\"\n",
    "s2=\"sa\"\n",
    "s1[0]+s2[0:2]+s1[1:3]"
   ]
  },
  {
   "cell_type": "code",
   "execution_count": 92,
   "id": "3792b9b6",
   "metadata": {},
   "outputs": [
    {
     "data": {
      "text/plain": [
       "'bcdfghjklmnpqrstvwxyz'"
      ]
     },
     "execution_count": 92,
     "metadata": {},
     "output_type": "execute_result"
    }
   ],
   "source": [
    "#9)write a program to remove vowels from the entire alphabets:\n",
    "#i/p:\"abcdefghijklmnopqrstuvwxyz\"\n",
    "#o/p:\" bcdfghjklmnpqrstvwxyz\"\n",
    "s8=\"abcdefghijklmnopqrstuvwxyz\"\n",
    "s9=[\"a\",\"e\",\"i\",\"o\",\"u\"]\n",
    "s10=s8.split()\n",
    "l1=[]\n",
    "for i in s8:\n",
    "    if i not in s9:\n",
    "        l1.append(i)\n",
    "l2=\"\".join(l1)\n",
    "l2\n",
    "    "
   ]
  },
  {
   "cell_type": "code",
   "execution_count": null,
   "id": "40a06df4",
   "metadata": {},
   "outputs": [],
   "source": []
  }
 ],
 "metadata": {
  "kernelspec": {
   "display_name": "Python 3 (ipykernel)",
   "language": "python",
   "name": "python3"
  },
  "language_info": {
   "codemirror_mode": {
    "name": "ipython",
    "version": 3
   },
   "file_extension": ".py",
   "mimetype": "text/x-python",
   "name": "python",
   "nbconvert_exporter": "python",
   "pygments_lexer": "ipython3",
   "version": "3.9.13"
  }
 },
 "nbformat": 4,
 "nbformat_minor": 5
}
